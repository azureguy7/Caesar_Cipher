{
  "nbformat": 4,
  "nbformat_minor": 0,
  "metadata": {
    "colab": {
      "name": "Untitled5.ipynb",
      "provenance": [],
      "authorship_tag": "ABX9TyMs2/bdOchkcj0v0xIx3eu4",
      "include_colab_link": true
    },
    "kernelspec": {
      "name": "python3",
      "display_name": "Python 3"
    },
    "language_info": {
      "name": "python"
    }
  },
  "cells": [
    {
      "cell_type": "markdown",
      "metadata": {
        "id": "view-in-github",
        "colab_type": "text"
      },
      "source": [
        "<a href=\"https://colab.research.google.com/github/azureguy7/Caesar_Cipher/blob/main/pythonbasic_deepcopy.ipynb\" target=\"_parent\"><img src=\"https://colab.research.google.com/assets/colab-badge.svg\" alt=\"Open In Colab\"/></a>"
      ]
    },
    {
      "cell_type": "markdown",
      "source": [
        "# 1. copy nested of list\n",
        "## copy 함수는 일차원 복사만 가능함\n",
        "## 이차원 복사는 copy 모듈에 deepcopy를 사용할 것"
      ],
      "metadata": {
        "id": "qbQSd8BDlNFV"
      }
    },
    {
      "cell_type": "code",
      "source": [
        "# 예시\n",
        "a = b = [1,2,3,[1,2,3]]\n",
        "print(id(a))\n",
        "print(id(b))"
      ],
      "metadata": {
        "colab": {
          "base_uri": "https://localhost:8080/"
        },
        "id": "jkMo4KZ0ldGv",
        "outputId": "35300032-1b63-47d6-d380-42daba6b3055"
      },
      "execution_count": 5,
      "outputs": [
        {
          "output_type": "stream",
          "name": "stdout",
          "text": [
            "140175787253840\n",
            "140175787253840\n"
          ]
        }
      ]
    },
    {
      "cell_type": "code",
      "source": [
        "c=a.copy()\n",
        "id(c)"
      ],
      "metadata": {
        "colab": {
          "base_uri": "https://localhost:8080/"
        },
        "id": "r9ojajYgl8Oe",
        "outputId": "77011afa-e98e-417b-b9d5-7490ce6a81e8"
      },
      "execution_count": 9,
      "outputs": [
        {
          "output_type": "execute_result",
          "data": {
            "text/plain": [
              "140175788452032"
            ]
          },
          "metadata": {},
          "execution_count": 9
        }
      ]
    },
    {
      "cell_type": "code",
      "source": [
        "c[3][2]='a'"
      ],
      "metadata": {
        "id": "vB1fUtI_lorP"
      },
      "execution_count": 12,
      "outputs": []
    },
    {
      "cell_type": "code",
      "source": [
        "print(a)"
      ],
      "metadata": {
        "colab": {
          "base_uri": "https://localhost:8080/"
        },
        "id": "Wm95L14-mKkH",
        "outputId": "3d5c81e5-639f-40d1-dff9-4a86c366c12f"
      },
      "execution_count": 13,
      "outputs": [
        {
          "output_type": "stream",
          "name": "stdout",
          "text": [
            "[1, 2, 3, [1, 2, 'a']]\n"
          ]
        }
      ]
    },
    {
      "cell_type": "code",
      "source": [
        "import copy\n",
        "d = copy.deepcopy(a)"
      ],
      "metadata": {
        "id": "kynWra0zluBO"
      },
      "execution_count": 14,
      "outputs": []
    },
    {
      "cell_type": "code",
      "source": [
        "d"
      ],
      "metadata": {
        "colab": {
          "base_uri": "https://localhost:8080/"
        },
        "id": "v8q_JXy_mY1v",
        "outputId": "0ab26bc3-21ce-497b-990b-3046dccfcc75"
      },
      "execution_count": 15,
      "outputs": [
        {
          "output_type": "execute_result",
          "data": {
            "text/plain": [
              "[1, 2, 3, [1, 2, 'a']]"
            ]
          },
          "metadata": {},
          "execution_count": 15
        }
      ]
    },
    {
      "cell_type": "code",
      "source": [
        "d[3][0] ='c'"
      ],
      "metadata": {
        "id": "XYICjP6TmZhe"
      },
      "execution_count": 16,
      "outputs": []
    },
    {
      "cell_type": "code",
      "source": [
        "a[3][0]"
      ],
      "metadata": {
        "colab": {
          "base_uri": "https://localhost:8080/"
        },
        "id": "hx0Fx8C8mhJu",
        "outputId": "68783963-a1c2-41cb-c82b-9a956925976d"
      },
      "execution_count": 17,
      "outputs": [
        {
          "output_type": "execute_result",
          "data": {
            "text/plain": [
              "1"
            ]
          },
          "metadata": {},
          "execution_count": 17
        }
      ]
    },
    {
      "cell_type": "code",
      "source": [
        ""
      ],
      "metadata": {
        "id": "Y_4rtvDlmiv-"
      },
      "execution_count": null,
      "outputs": []
    }
  ]
}